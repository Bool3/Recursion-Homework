{
 "metadata": {
  "language_info": {
   "codemirror_mode": {
    "name": "ipython",
    "version": 3
   },
   "file_extension": ".py",
   "mimetype": "text/x-python",
   "name": "python",
   "nbconvert_exporter": "python",
   "pygments_lexer": "ipython3",
   "version": "3.8.5-final"
  },
  "orig_nbformat": 2,
  "kernelspec": {
   "name": "python3",
   "display_name": "Python 3"
  }
 },
 "nbformat": 4,
 "nbformat_minor": 2,
 "cells": [
  {
   "source": [
    "![tree](DemoTree.png)"
   ],
   "cell_type": "markdown",
   "metadata": {}
  },
  {
   "source": [
    "## Output\n",
    "\n",
    "Running: ```recurse(tree)``` should produce:  \n",
    "\n",
    "```\n",
    "visiting: <a: 1>\n",
    "visiting: <b: 2>\n",
    "visiting: <d: 4>\n",
    "visiting: <i: 9>\n",
    "visiting: <e: 5>\n",
    "visiting: <j: 10>\n",
    "visiting: <k: 11>\n",
    "visiting: <f: 6>\n",
    "visiting: <l: 12>\n",
    "visiting: <c: 3>\n",
    "visiting: <g: 7>\n",
    "visiting: <m: 13>\n",
    "visiting: <n: 14>\n",
    "visiting: <h: 8>\n",
    "visiting: <o: 15>\n",
    "visiting: <p: 16>\n",
    "visiting: <q: 17>\n",
    "\n",
    "{'a': [{'b': [{'d': ['i']}, {'e': ['j', 'k']}, {'f': ['l']}]},\n",
    "  {'c': [{'g': ['m', 'n']}, {'h': ['o', 'p', 'q']}]}]}\n",
    "```"
   ],
   "cell_type": "markdown",
   "metadata": {}
  },
  {
   "cell_type": "code",
   "execution_count": 4,
   "metadata": {},
   "outputs": [],
   "source": [
    "import logging\n",
    "\n",
    "\n",
    "def setup_logging(level=logging.DEBUG):\n",
    "  logging.basicConfig(level=level, format='{%(levelname)s} %(message)s',datefmt='%H:%M:%S')\n",
    "  \n",
    "  # shorthand convenience methods for using logger\n",
    "  global debug, warn, info, error, crash\n",
    "  \n",
    "  debug = logging.debug\n",
    "  warn = logging.warning\n",
    "  info = logging.info\n",
    "  error = logging.error\n",
    "  crash = logging.critical\n",
    "\n",
    "# initialize logger\n",
    "# debug and warn messages will be skipped\n",
    "setup_logging(logging.DEBUG)"
   ]
  },
  {
   "cell_type": "code",
   "execution_count": 33,
   "metadata": {},
   "outputs": [],
   "source": [
    " class Node:\n",
    "    counter = 17\n",
    "    def __init__(self, name, child=None):\n",
    "        self.name = name\n",
    "        self.child = child\n",
    "        self.value = Node.counter\n",
    "        Node.counter = Node.counter - 1\n",
    "\n",
    "    def __str__(self):\n",
    "        return f\"<{self.name}: {self.value}>\"\n",
    "\n",
    "    def __repr__(self):\n",
    "        return f\"<{self.value}>\"\n",
    "\n",
    "\n",
    "def init_tree():\n",
    "    q = Node(\"q\")\n",
    "    p = Node(\"p\")\n",
    "    o = Node(\"o\")\n",
    "    n = Node(\"n\")\n",
    "    m = Node(\"m\")\n",
    "    l = Node(\"l\")\n",
    "    k = Node(\"k\")\n",
    "    j = Node(\"j\")\n",
    "    i = Node(\"i\")\n",
    "    h = Node(\"h\",[o,p,q])\n",
    "    g = Node(\"g\", [m,n])\n",
    "    f = Node(\"f\", [l])\n",
    "    e = Node(\"e\",[j,k])\n",
    "    d = Node(\"d\", [i])\n",
    "    c = Node(\"c\",[g,h])\n",
    "    b = Node(\"b\",[d,e,f])\n",
    "    a = Node(\"a\",[b,c])    \n",
    "\n",
    "    return a\n",
    "\n",
    "# the root of the tree structure\n",
    "tree = init_tree()\n"
   ]
  },
  {
   "cell_type": "code",
   "execution_count": 37,
   "metadata": {},
   "outputs": [
    {
     "output_type": "stream",
     "name": "stdout",
     "text": [
      "visiting: <a: 1>\nvisiting: <b: 2>\nvisiting: <d: 4>\nvisiting: <i: 9>\nvisiting: <e: 5>\nvisiting: <j: 10>\nvisiting: <k: 11>\nvisiting: <f: 6>\nvisiting: <l: 12>\nvisiting: <c: 3>\nvisiting: <g: 7>\nvisiting: <m: 13>\nvisiting: <n: 14>\nvisiting: <h: 8>\nvisiting: <o: 15>\nvisiting: <p: 16>\nvisiting: <q: 17>\n\n{'a': [{'b': [{'d': ['i']}, {'e': ['j', 'k']}, {'f': ['l']}]}, {'c': [{'g': ['m', 'n']}, {'h': ['o', 'p', 'q']}]}]}\n"
     ]
    }
   ],
   "source": [
    "def recurse(tree):\n",
    "    print(f\"visiting: {tree}\")\n",
    "\n",
    "    if tree.child == None:\n",
    "        return tree.name\n",
    "    else:\n",
    "        return {tree.name: [recurse(child) for child in tree.child]}\n",
    "\n",
    "print(f\"\\n{recurse(tree)}\")"
   ]
  },
  {
   "cell_type": "code",
   "execution_count": null,
   "metadata": {},
   "outputs": [],
   "source": []
  }
 ]
}